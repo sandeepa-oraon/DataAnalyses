{
  "nbformat": 4,
  "nbformat_minor": 0,
  "metadata": {
    "colab": {
      "provenance": [],
      "authorship_tag": "ABX9TyNHW7CqEuVot7yoeOv+DFHY",
      "include_colab_link": true
    },
    "kernelspec": {
      "name": "python3",
      "display_name": "Python 3"
    },
    "language_info": {
      "name": "python"
    }
  },
  "cells": [
    {
      "cell_type": "markdown",
      "metadata": {
        "id": "view-in-github",
        "colab_type": "text"
      },
      "source": [
        "<a href=\"https://colab.research.google.com/github/sandeepa-oraon/DataAnalyses/blob/main/numpy/np.ipynb\" target=\"_parent\"><img src=\"https://colab.research.google.com/assets/colab-badge.svg\" alt=\"Open In Colab\"/></a>"
      ]
    },
    {
      "cell_type": "code",
      "execution_count": 16,
      "metadata": {
        "id": "9iYsYST7ldqV"
      },
      "outputs": [],
      "source": [
        "import numpy as np"
      ]
    },
    {
      "cell_type": "markdown",
      "source": [
        "creating 1D array"
      ],
      "metadata": {
        "id": "m55uikhumh4A"
      }
    },
    {
      "cell_type": "code",
      "source": [
        "arr= np.array([1, 2,3 ,4])\n",
        "display(arr)"
      ],
      "metadata": {
        "id": "Ql8ytHd4mZBi",
        "outputId": "ca5c977c-4aa3-4387-99ed-97c01be6853e",
        "colab": {
          "base_uri": "https://localhost:8080/",
          "height": 35
        }
      },
      "execution_count": null,
      "outputs": [
        {
          "output_type": "display_data",
          "data": {
            "text/plain": [
              "array([1, 2, 3, 4])"
            ]
          },
          "metadata": {}
        }
      ]
    },
    {
      "cell_type": "markdown",
      "source": [
        "creating 2D array"
      ],
      "metadata": {
        "id": "1BaMWWtLmj8s"
      }
    },
    {
      "cell_type": "code",
      "source": [
        "arr2= np.array([[1, 2, 3],\n",
        "                [4, 5, 6]])\n",
        "print(arr2)"
      ],
      "metadata": {
        "id": "qWLBx7Lzlj9C",
        "outputId": "3da62348-161c-43d0-bb33-63a6d10b6024",
        "colab": {
          "base_uri": "https://localhost:8080/"
        }
      },
      "execution_count": null,
      "outputs": [
        {
          "output_type": "stream",
          "name": "stdout",
          "text": [
            "[[1 2 3]\n",
            " [4 5 6]]\n"
          ]
        }
      ]
    },
    {
      "cell_type": "markdown",
      "source": [
        "creating 3D array"
      ],
      "metadata": {
        "id": "VJ5eFVjfm6O0"
      }
    },
    {
      "cell_type": "code",
      "source": [
        "arr3= np.array([[[1, 2, 3],\n",
        "                 [2, 3, 4]],\n",
        "                 [[3, 4, 5],\n",
        "                  [2,3,1]]])\n",
        "print(arr3)"
      ],
      "metadata": {
        "id": "1nChQ32Zmv8T",
        "outputId": "f62c16f0-7931-4012-ddf7-4885c49409e7",
        "colab": {
          "base_uri": "https://localhost:8080/"
        }
      },
      "execution_count": null,
      "outputs": [
        {
          "output_type": "stream",
          "name": "stdout",
          "text": [
            "[[[1 2 3]\n",
            "  [2 3 4]]\n",
            "\n",
            " [[3 4 5]\n",
            "  [2 3 1]]]\n"
          ]
        }
      ]
    },
    {
      "cell_type": "markdown",
      "source": [
        "creating array from tuple"
      ],
      "metadata": {
        "id": "eNa0m-ennTs9"
      }
    },
    {
      "cell_type": "code",
      "source": [
        "arr4= np.array((1, 4, 2))\n",
        "print(arr4)"
      ],
      "metadata": {
        "id": "jIdY_hLLnDwY",
        "outputId": "7db5dd60-c1b5-4de2-dafa-f7ad3699f9b5",
        "colab": {
          "base_uri": "https://localhost:8080/"
        }
      },
      "execution_count": 15,
      "outputs": [
        {
          "output_type": "stream",
          "name": "stdout",
          "text": [
            "[1 4 2]\n"
          ]
        }
      ]
    },
    {
      "cell_type": "markdown",
      "source": [
        "Accessing the array element"
      ],
      "metadata": {
        "id": "0hLB6Kqkyako"
      }
    },
    {
      "cell_type": "code",
      "source": [
        "arr = np.array([[-1, 2, 0, 4],\n",
        "                [4, -0.5, 6, 0],\n",
        "                [2.6, 0, 7, 8],\n",
        "                [3, -7, 4, 2.0]])"
      ],
      "metadata": {
        "id": "O5nbHpYJnbte"
      },
      "execution_count": null,
      "outputs": []
    },
    {
      "cell_type": "code",
      "source": [
        "#particular cell\n",
        "print(arr[3][1])"
      ],
      "metadata": {
        "colab": {
          "base_uri": "https://localhost:8080/"
        },
        "id": "4vUntejSygrL",
        "outputId": "0f8edcb1-65ce-425f-ed2b-c090f1b39f4f"
      },
      "execution_count": null,
      "outputs": [
        {
          "output_type": "stream",
          "name": "stdout",
          "text": [
            "-7.0\n"
          ]
        }
      ]
    },
    {
      "cell_type": "code",
      "source": [
        "#2nd row, entire column\n",
        "print(arr[2, :])"
      ],
      "metadata": {
        "colab": {
          "base_uri": "https://localhost:8080/"
        },
        "id": "RXpdnuK-yjxs",
        "outputId": "fa403de2-595d-40eb-9ec6-a10f4c76f7d3"
      },
      "execution_count": null,
      "outputs": [
        {
          "output_type": "stream",
          "name": "stdout",
          "text": [
            "[2.6 0.  7.  8. ]\n"
          ]
        }
      ]
    },
    {
      "cell_type": "code",
      "source": [
        "#entire row, 3 column\n",
        "print(arr[:, 3])"
      ],
      "metadata": {
        "colab": {
          "base_uri": "https://localhost:8080/"
        },
        "id": "GIo7S_uKysXJ",
        "outputId": "a9622341-7ece-4ec3-bf1f-0ba8e9521726"
      },
      "execution_count": null,
      "outputs": [
        {
          "output_type": "stream",
          "name": "stdout",
          "text": [
            "[4. 0. 8. 2.]\n"
          ]
        }
      ]
    },
    {
      "cell_type": "code",
      "source": [
        "#1st 2 row and alternate column(0 & 2)\n",
        "print(arr[:2, ::2])"
      ],
      "metadata": {
        "colab": {
          "base_uri": "https://localhost:8080/"
        },
        "id": "V69Qzh7ly2dB",
        "outputId": "53d53ceb-ca33-44d2-c0fa-76f605095aef"
      },
      "execution_count": null,
      "outputs": [
        {
          "output_type": "stream",
          "name": "stdout",
          "text": [
            "[[-1.  0.]\n",
            " [ 4.  6.]]\n"
          ]
        }
      ]
    },
    {
      "cell_type": "markdown",
      "source": [
        "###array operations"
      ],
      "metadata": {
        "id": "5oMKTntE1Gp2"
      }
    },
    {
      "cell_type": "code",
      "source": [
        "a = np.array([[1, 2],\n",
        "              [3, 4]])\n",
        "\n",
        "# Defining Array 2\n",
        "b = np.array([[4, 3],\n",
        "              [2, 1]])"
      ],
      "metadata": {
        "id": "kA4yB2zjzr3R"
      },
      "execution_count": 17,
      "outputs": []
    },
    {
      "cell_type": "code",
      "source": [
        "print(a+b)"
      ],
      "metadata": {
        "id": "cBSFImGp1DrA",
        "outputId": "8346caff-cbbb-4482-9451-67ec3b9edb48",
        "colab": {
          "base_uri": "https://localhost:8080/"
        }
      },
      "execution_count": 18,
      "outputs": [
        {
          "output_type": "stream",
          "name": "stdout",
          "text": [
            "[[5 5]\n",
            " [5 5]]\n"
          ]
        }
      ]
    },
    {
      "cell_type": "code",
      "source": [
        "print(a-b)"
      ],
      "metadata": {
        "id": "HyFR7_1e1DYJ",
        "outputId": "53993a38-9dd4-42f8-f708-199b0a4f7c42",
        "colab": {
          "base_uri": "https://localhost:8080/"
        }
      },
      "execution_count": 19,
      "outputs": [
        {
          "output_type": "stream",
          "name": "stdout",
          "text": [
            "[[-3 -1]\n",
            " [ 1  3]]\n"
          ]
        }
      ]
    },
    {
      "cell_type": "code",
      "source": [
        "print(a*b)"
      ],
      "metadata": {
        "id": "lESyofG_1Xgp",
        "outputId": "3efca96a-0619-47b1-b7d7-c88d41974d72",
        "colab": {
          "base_uri": "https://localhost:8080/"
        }
      },
      "execution_count": 21,
      "outputs": [
        {
          "output_type": "stream",
          "name": "stdout",
          "text": [
            "[[4 6]\n",
            " [6 4]]\n"
          ]
        }
      ]
    },
    {
      "cell_type": "code",
      "source": [
        "print(a/b)"
      ],
      "metadata": {
        "id": "y4uavOpx1ZB-",
        "outputId": "7398594a-f785-4a5f-db54-2d7ed3dfea11",
        "colab": {
          "base_uri": "https://localhost:8080/"
        }
      },
      "execution_count": 22,
      "outputs": [
        {
          "output_type": "stream",
          "name": "stdout",
          "text": [
            "[[0.25       0.66666667]\n",
            " [1.5        4.        ]]\n"
          ]
        }
      ]
    },
    {
      "cell_type": "code",
      "source": [
        "print(a.sum())"
      ],
      "metadata": {
        "id": "9aPaRD_d1cNQ",
        "outputId": "1cdce289-50da-416b-af57-e0bf08845721",
        "colab": {
          "base_uri": "https://localhost:8080/"
        }
      },
      "execution_count": 23,
      "outputs": [
        {
          "output_type": "stream",
          "name": "stdout",
          "text": [
            "10\n"
          ]
        }
      ]
    },
    {
      "cell_type": "code",
      "source": [],
      "metadata": {
        "id": "hZp-15191g0v"
      },
      "execution_count": null,
      "outputs": []
    }
  ]
}