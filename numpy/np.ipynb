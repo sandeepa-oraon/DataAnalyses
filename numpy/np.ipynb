{
  "nbformat": 4,
  "nbformat_minor": 0,
  "metadata": {
    "colab": {
      "provenance": [],
      "authorship_tag": "ABX9TyO9VRCoa/iLSV8WPnAQjBqQ",
      "include_colab_link": true
    },
    "kernelspec": {
      "name": "python3",
      "display_name": "Python 3"
    },
    "language_info": {
      "name": "python"
    }
  },
  "cells": [
    {
      "cell_type": "markdown",
      "metadata": {
        "id": "view-in-github",
        "colab_type": "text"
      },
      "source": [
        "<a href=\"https://colab.research.google.com/github/sandeepa-oraon/DataAnalyses/blob/main/numpy/np.ipynb\" target=\"_parent\"><img src=\"https://colab.research.google.com/assets/colab-badge.svg\" alt=\"Open In Colab\"/></a>"
      ]
    },
    {
      "cell_type": "code",
      "execution_count": null,
      "metadata": {
        "id": "9iYsYST7ldqV"
      },
      "outputs": [],
      "source": [
        "import numpy as np"
      ]
    },
    {
      "cell_type": "markdown",
      "source": [
        "creating 1D array"
      ],
      "metadata": {
        "id": "m55uikhumh4A"
      }
    },
    {
      "cell_type": "code",
      "source": [
        "arr= np.array([1, 2,3 ,4])\n",
        "display(arr)"
      ],
      "metadata": {
        "id": "Ql8ytHd4mZBi",
        "outputId": "ca5c977c-4aa3-4387-99ed-97c01be6853e",
        "colab": {
          "base_uri": "https://localhost:8080/",
          "height": 35
        }
      },
      "execution_count": null,
      "outputs": [
        {
          "output_type": "display_data",
          "data": {
            "text/plain": [
              "array([1, 2, 3, 4])"
            ]
          },
          "metadata": {}
        }
      ]
    },
    {
      "cell_type": "markdown",
      "source": [
        "creating 2D array"
      ],
      "metadata": {
        "id": "1BaMWWtLmj8s"
      }
    },
    {
      "cell_type": "code",
      "source": [
        "arr2= np.array([[1, 2, 3],\n",
        "                [4, 5, 6]])\n",
        "print(arr2)"
      ],
      "metadata": {
        "id": "qWLBx7Lzlj9C",
        "outputId": "3da62348-161c-43d0-bb33-63a6d10b6024",
        "colab": {
          "base_uri": "https://localhost:8080/"
        }
      },
      "execution_count": null,
      "outputs": [
        {
          "output_type": "stream",
          "name": "stdout",
          "text": [
            "[[1 2 3]\n",
            " [4 5 6]]\n"
          ]
        }
      ]
    },
    {
      "cell_type": "markdown",
      "source": [
        "creating 3D array"
      ],
      "metadata": {
        "id": "VJ5eFVjfm6O0"
      }
    },
    {
      "cell_type": "code",
      "source": [
        "arr3= np.array([[[1, 2, 3],\n",
        "                 [2, 3, 4]],\n",
        "                 [[3, 4, 5],\n",
        "                  [2,3,1]]])\n",
        "print(arr3)"
      ],
      "metadata": {
        "id": "1nChQ32Zmv8T",
        "outputId": "f62c16f0-7931-4012-ddf7-4885c49409e7",
        "colab": {
          "base_uri": "https://localhost:8080/"
        }
      },
      "execution_count": null,
      "outputs": [
        {
          "output_type": "stream",
          "name": "stdout",
          "text": [
            "[[[1 2 3]\n",
            "  [2 3 4]]\n",
            "\n",
            " [[3 4 5]\n",
            "  [2 3 1]]]\n"
          ]
        }
      ]
    },
    {
      "cell_type": "markdown",
      "source": [
        "creating array from tuple"
      ],
      "metadata": {
        "id": "eNa0m-ennTs9"
      }
    },
    {
      "cell_type": "code",
      "source": [
        "arr4= np.array((1, 4, 2))\n",
        "print(arr4)"
      ],
      "metadata": {
        "id": "jIdY_hLLnDwY",
        "outputId": "9e9f93b8-bf4a-42a0-8023-55a2a16ed597",
        "colab": {
          "base_uri": "https://localhost:8080/"
        }
      },
      "execution_count": null,
      "outputs": [
        {
          "output_type": "stream",
          "name": "stdout",
          "text": [
            "[1 4 2]\n"
          ]
        }
      ]
    },
    {
      "cell_type": "markdown",
      "source": [
        "Accessing the array element"
      ],
      "metadata": {
        "id": "0hLB6Kqkyako"
      }
    },
    {
      "cell_type": "code",
      "source": [
        "arr = np.array([[-1, 2, 0, 4],\n",
        "                [4, -0.5, 6, 0],\n",
        "                [2.6, 0, 7, 8],\n",
        "                [3, -7, 4, 2.0]])"
      ],
      "metadata": {
        "id": "O5nbHpYJnbte"
      },
      "execution_count": 8,
      "outputs": []
    },
    {
      "cell_type": "code",
      "source": [
        "#particular cell\n",
        "print(arr[3][1])"
      ],
      "metadata": {
        "colab": {
          "base_uri": "https://localhost:8080/"
        },
        "id": "4vUntejSygrL",
        "outputId": "0f8edcb1-65ce-425f-ed2b-c090f1b39f4f"
      },
      "execution_count": 10,
      "outputs": [
        {
          "output_type": "stream",
          "name": "stdout",
          "text": [
            "-7.0\n"
          ]
        }
      ]
    },
    {
      "cell_type": "code",
      "source": [
        "#2nd row, entire column\n",
        "print(arr[2, :])"
      ],
      "metadata": {
        "colab": {
          "base_uri": "https://localhost:8080/"
        },
        "id": "RXpdnuK-yjxs",
        "outputId": "fa403de2-595d-40eb-9ec6-a10f4c76f7d3"
      },
      "execution_count": 11,
      "outputs": [
        {
          "output_type": "stream",
          "name": "stdout",
          "text": [
            "[2.6 0.  7.  8. ]\n"
          ]
        }
      ]
    },
    {
      "cell_type": "code",
      "source": [
        "#entire row, 3 column\n",
        "print(arr[:, 3])"
      ],
      "metadata": {
        "colab": {
          "base_uri": "https://localhost:8080/"
        },
        "id": "GIo7S_uKysXJ",
        "outputId": "a9622341-7ece-4ec3-bf1f-0ba8e9521726"
      },
      "execution_count": 13,
      "outputs": [
        {
          "output_type": "stream",
          "name": "stdout",
          "text": [
            "[4. 0. 8. 2.]\n"
          ]
        }
      ]
    },
    {
      "cell_type": "code",
      "source": [
        "#1st 2 row and alternate column(0 & 2)\n",
        "print(arr[:2, ::2])"
      ],
      "metadata": {
        "colab": {
          "base_uri": "https://localhost:8080/"
        },
        "id": "V69Qzh7ly2dB",
        "outputId": "53d53ceb-ca33-44d2-c0fa-76f605095aef"
      },
      "execution_count": 14,
      "outputs": [
        {
          "output_type": "stream",
          "name": "stdout",
          "text": [
            "[[-1.  0.]\n",
            " [ 4.  6.]]\n"
          ]
        }
      ]
    },
    {
      "cell_type": "code",
      "source": [],
      "metadata": {
        "id": "kA4yB2zjzr3R"
      },
      "execution_count": null,
      "outputs": []
    }
  ]
}