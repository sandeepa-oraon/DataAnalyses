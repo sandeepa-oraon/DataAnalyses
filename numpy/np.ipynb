{
  "nbformat": 4,
  "nbformat_minor": 0,
  "metadata": {
    "colab": {
      "provenance": [],
      "authorship_tag": "ABX9TyMA7epmAgPbM91AXFyNyqWJ",
      "include_colab_link": true
    },
    "kernelspec": {
      "name": "python3",
      "display_name": "Python 3"
    },
    "language_info": {
      "name": "python"
    }
  },
  "cells": [
    {
      "cell_type": "markdown",
      "metadata": {
        "id": "view-in-github",
        "colab_type": "text"
      },
      "source": [
        "<a href=\"https://colab.research.google.com/github/sandeepa-oraon/DataAnalyses/blob/main/numpy/np.ipynb\" target=\"_parent\"><img src=\"https://colab.research.google.com/assets/colab-badge.svg\" alt=\"Open In Colab\"/></a>"
      ]
    },
    {
      "cell_type": "code",
      "execution_count": 1,
      "metadata": {
        "id": "9iYsYST7ldqV"
      },
      "outputs": [],
      "source": [
        "import numpy as np"
      ]
    },
    {
      "cell_type": "markdown",
      "source": [
        "creating 1D array"
      ],
      "metadata": {
        "id": "m55uikhumh4A"
      }
    },
    {
      "cell_type": "code",
      "source": [
        "arr= np.array([1, 2,3 ,4])\n",
        "display(arr)"
      ],
      "metadata": {
        "id": "Ql8ytHd4mZBi",
        "outputId": "ca5c977c-4aa3-4387-99ed-97c01be6853e",
        "colab": {
          "base_uri": "https://localhost:8080/",
          "height": 35
        }
      },
      "execution_count": 2,
      "outputs": [
        {
          "output_type": "display_data",
          "data": {
            "text/plain": [
              "array([1, 2, 3, 4])"
            ]
          },
          "metadata": {}
        }
      ]
    },
    {
      "cell_type": "markdown",
      "source": [
        "creating 2D array"
      ],
      "metadata": {
        "id": "1BaMWWtLmj8s"
      }
    },
    {
      "cell_type": "code",
      "source": [
        "arr2= np.array([[1, 2, 3],\n",
        "                [4, 5, 6]])\n",
        "print(arr2)"
      ],
      "metadata": {
        "id": "qWLBx7Lzlj9C",
        "outputId": "3da62348-161c-43d0-bb33-63a6d10b6024",
        "colab": {
          "base_uri": "https://localhost:8080/"
        }
      },
      "execution_count": 5,
      "outputs": [
        {
          "output_type": "stream",
          "name": "stdout",
          "text": [
            "[[1 2 3]\n",
            " [4 5 6]]\n"
          ]
        }
      ]
    },
    {
      "cell_type": "markdown",
      "source": [
        "creating 3D array"
      ],
      "metadata": {
        "id": "VJ5eFVjfm6O0"
      }
    },
    {
      "cell_type": "code",
      "source": [
        "arr3= np.array([[[1, 2, 3],\n",
        "                 [2, 3, 4]],\n",
        "                 [[3, 4, 5],\n",
        "                  [2,3,1]]])\n",
        "print(arr3)"
      ],
      "metadata": {
        "id": "1nChQ32Zmv8T",
        "outputId": "f62c16f0-7931-4012-ddf7-4885c49409e7",
        "colab": {
          "base_uri": "https://localhost:8080/"
        }
      },
      "execution_count": 6,
      "outputs": [
        {
          "output_type": "stream",
          "name": "stdout",
          "text": [
            "[[[1 2 3]\n",
            "  [2 3 4]]\n",
            "\n",
            " [[3 4 5]\n",
            "  [2 3 1]]]\n"
          ]
        }
      ]
    },
    {
      "cell_type": "markdown",
      "source": [
        "creating array from tuple"
      ],
      "metadata": {
        "id": "eNa0m-ennTs9"
      }
    },
    {
      "cell_type": "code",
      "source": [
        "arr4= np.array((1, 4, 2))\n",
        "print(arr4)"
      ],
      "metadata": {
        "id": "jIdY_hLLnDwY",
        "outputId": "9e9f93b8-bf4a-42a0-8023-55a2a16ed597",
        "colab": {
          "base_uri": "https://localhost:8080/"
        }
      },
      "execution_count": 7,
      "outputs": [
        {
          "output_type": "stream",
          "name": "stdout",
          "text": [
            "[1 4 2]\n"
          ]
        }
      ]
    },
    {
      "cell_type": "code",
      "source": [],
      "metadata": {
        "id": "O5nbHpYJnbte"
      },
      "execution_count": null,
      "outputs": []
    }
  ]
}