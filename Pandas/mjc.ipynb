{
  "nbformat": 4,
  "nbformat_minor": 0,
  "metadata": {
    "colab": {
      "provenance": [],
      "authorship_tag": "ABX9TyPr/5QPsV2haovRifBv/ME5",
      "include_colab_link": true
    },
    "kernelspec": {
      "name": "python3",
      "display_name": "Python 3"
    },
    "language_info": {
      "name": "python"
    }
  },
  "cells": [
    {
      "cell_type": "markdown",
      "metadata": {
        "id": "view-in-github",
        "colab_type": "text"
      },
      "source": [
        "<a href=\"https://colab.research.google.com/github/sandeepa-oraon/DataAnalyses/blob/main/Pandas/mjc.ipynb\" target=\"_parent\"><img src=\"https://colab.research.google.com/assets/colab-badge.svg\" alt=\"Open In Colab\"/></a>"
      ]
    },
    {
      "cell_type": "markdown",
      "source": [
        "#Merging, Joining, and Concatenating"
      ],
      "metadata": {
        "id": "WeqmTPp_ftZS"
      }
    },
    {
      "cell_type": "code",
      "execution_count": null,
      "metadata": {
        "id": "1NiRv9CGlz4U"
      },
      "outputs": [],
      "source": [
        "import pandas as pd"
      ]
    },
    {
      "cell_type": "code",
      "source": [],
      "metadata": {
        "id": "gwLkZaYJigBU"
      },
      "execution_count": null,
      "outputs": []
    },
    {
      "cell_type": "code",
      "source": [
        "# Define a dictionary containing employee data\n",
        "data1 = {'Name': ['Jai', 'Princi', 'Gaurav', 'Anuj'],\n",
        "         'Age': [27, 24, 22, 32],\n",
        "         'Address': ['Nagpur', 'Kanpur', 'Allahabad', 'Kannuaj'],\n",
        "         'Qualification': ['Msc', 'MA', 'MCA', 'Phd']}\n",
        "\n",
        "# Define a dictionary containing employee data\n",
        "data2 = {'Name': ['Abhi', 'Ayushi', 'Dhiraj', 'Hitesh'],\n",
        "         'Age': [17, 14, 12, 52],\n",
        "         'Address': ['Nagpur', 'Kanpur', 'Allahabad', 'Kannuaj'],\n",
        "         'Qualification': ['Btech', 'B.A', 'Bcom', 'B.hons']}"
      ],
      "metadata": {
        "id": "Uu9xX2kDif3Z"
      },
      "execution_count": null,
      "outputs": []
    },
    {
      "cell_type": "code",
      "source": [
        "\n",
        "# Convert the dictionary into DataFrame\n",
        "df = pd.DataFrame(data1, index=[0, 1, 2, 3])\n",
        "\n",
        "# Convert the dictionary into DataFrame\n",
        "df1 = pd.DataFrame(data2, index=[4, 5, 6, 7])\n"
      ],
      "metadata": {
        "id": "oz_hvnOxiyL6"
      },
      "execution_count": null,
      "outputs": []
    }
  ]
}