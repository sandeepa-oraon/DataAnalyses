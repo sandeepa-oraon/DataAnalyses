{
  "nbformat": 4,
  "nbformat_minor": 0,
  "metadata": {
    "colab": {
      "provenance": [],
      "name": "dataframe.ipynb",
      "authorship_tag": "ABX9TyNh6TPmr/xqrE8bkmubkPnn",
      "include_colab_link": true
    },
    "kernelspec": {
      "name": "python3",
      "display_name": "Python 3"
    },
    "language_info": {
      "name": "python"
    }
  },
  "cells": [
    {
      "cell_type": "markdown",
      "metadata": {
        "id": "view-in-github",
        "colab_type": "text"
      },
      "source": [
        "<a href=\"https://colab.research.google.com/github/sandeepa-oraon/DataAnalyses/blob/main/Pandas/dataframe.ipynb\" target=\"_parent\"><img src=\"https://colab.research.google.com/assets/colab-badge.svg\" alt=\"Open In Colab\"/></a>"
      ]
    },
    {
      "cell_type": "markdown",
      "source": [
        "#Pandas"
      ],
      "metadata": {
        "id": "amxHVpVXuZE7"
      }
    },
    {
      "cell_type": "code",
      "execution_count": 1,
      "metadata": {
        "id": "p-tSKsPO5LPd"
      },
      "outputs": [],
      "source": [
        "import pandas as pd"
      ]
    },
    {
      "cell_type": "code",
      "source": [],
      "metadata": {
        "id": "YBCzKmwFTk5N"
      },
      "execution_count": 1,
      "outputs": []
    },
    {
      "cell_type": "code",
      "source": [
        "df= pd.DataFrame()\n",
        "print(df)"
      ],
      "metadata": {
        "id": "EZqFesfq5SN0",
        "colab": {
          "base_uri": "https://localhost:8080/"
        },
        "outputId": "4a48c90e-d54c-4547-af46-a9999817bb5f"
      },
      "execution_count": 2,
      "outputs": [
        {
          "output_type": "stream",
          "name": "stdout",
          "text": [
            "Empty DataFrame\n",
            "Columns: []\n",
            "Index: []\n"
          ]
        }
      ]
    },
    {
      "cell_type": "code",
      "source": [
        "#creating dataframe from list\n",
        "lst= ['hello', 'my', 'name', 'is', 'sandeepa']\n",
        "df= pd.DataFrame(lst)\n",
        "print(df)"
      ],
      "metadata": {
        "colab": {
          "base_uri": "https://localhost:8080/"
        },
        "id": "3VOj0uqP6krM",
        "outputId": "dc22c8d3-5c79-4c9e-cb08-036ca6993cf8"
      },
      "execution_count": 3,
      "outputs": [
        {
          "output_type": "stream",
          "name": "stdout",
          "text": [
            "          0\n",
            "0     hello\n",
            "1        my\n",
            "2      name\n",
            "3        is\n",
            "4  sandeepa\n"
          ]
        }
      ]
    },
    {
      "cell_type": "code",
      "source": [
        "#creating dataframe from dist of lists\n",
        "lst1={'Name': ['Tom', 'nick', 'krish', 'jack'], 'Age':[20, 21, 19, 18]}\n",
        "df= pd.DataFrame(lst1)\n",
        "print(df)"
      ],
      "metadata": {
        "id": "MeyPA8AN671W",
        "colab": {
          "base_uri": "https://localhost:8080/"
        },
        "outputId": "2c0b5a8c-74df-46b7-8637-4b61e303c076"
      },
      "execution_count": 4,
      "outputs": [
        {
          "output_type": "stream",
          "name": "stdout",
          "text": [
            "    Name  Age\n",
            "0    Tom   20\n",
            "1   nick   21\n",
            "2  krish   19\n",
            "3   jack   18\n"
          ]
        }
      ]
    },
    {
      "cell_type": "code",
      "source": [],
      "metadata": {
        "id": "gkOCfV9B76s5"
      },
      "execution_count": 4,
      "outputs": []
    },
    {
      "cell_type": "markdown",
      "source": [
        "##INDEXING (accessing and modifying)"
      ],
      "metadata": {
        "id": "Sw7wZyDbBYAA"
      }
    },
    {
      "cell_type": "code",
      "source": [
        "data = {'Name': ['John', 'Alice', 'Bob', 'Eve', 'Charlie'],\n",
        "        'Age': [25, 30, 22, 35, 28],\n",
        "        'Gender': ['Male', 'Female', 'Male', 'Female', 'Male'],\n",
        "        'Salary': [50000, 55000, 40000, 70000, 48000]}\n",
        "index_val=[1, 2, 3,4,5]"
      ],
      "metadata": {
        "id": "0ixao6pn8T6w"
      },
      "execution_count": 5,
      "outputs": []
    },
    {
      "cell_type": "code",
      "source": [
        "df= pd.DataFrame(data, index=index_val)\n",
        "print(df)"
      ],
      "metadata": {
        "id": "yw2UnkHj8Tjv",
        "colab": {
          "base_uri": "https://localhost:8080/"
        },
        "outputId": "274350d7-3d28-4e04-8c0c-7d6e88259e60"
      },
      "execution_count": 6,
      "outputs": [
        {
          "output_type": "stream",
          "name": "stdout",
          "text": [
            "      Name  Age  Gender  Salary\n",
            "1     John   25    Male   50000\n",
            "2    Alice   30  Female   55000\n",
            "3      Bob   22    Male   40000\n",
            "4      Eve   35  Female   70000\n",
            "5  Charlie   28    Male   48000\n"
          ]
        }
      ]
    },
    {
      "cell_type": "code",
      "source": [
        "df.loc[1]['Age']"
      ],
      "metadata": {
        "colab": {
          "base_uri": "https://localhost:8080/"
        },
        "id": "u08zg_b8CTLx",
        "outputId": "36f43e4c-a375-4134-bfdc-355d35084dc4"
      },
      "execution_count": 7,
      "outputs": [
        {
          "output_type": "execute_result",
          "data": {
            "text/plain": [
              "np.int64(25)"
            ]
          },
          "metadata": {},
          "execution_count": 7
        }
      ]
    },
    {
      "cell_type": "code",
      "source": [
        "df.loc[1,'Age']"
      ],
      "metadata": {
        "colab": {
          "base_uri": "https://localhost:8080/"
        },
        "id": "lx9E0ao4PCme",
        "outputId": "895b574c-592d-47c4-83b5-c2f6c98a7373"
      },
      "execution_count": 8,
      "outputs": [
        {
          "output_type": "execute_result",
          "data": {
            "text/plain": [
              "np.int64(25)"
            ]
          },
          "metadata": {},
          "execution_count": 8
        }
      ]
    },
    {
      "cell_type": "code",
      "source": [
        "df_name =df.set_index('Name')\n",
        "print(df_name)"
      ],
      "metadata": {
        "colab": {
          "base_uri": "https://localhost:8080/"
        },
        "id": "VSlsZznmCTIb",
        "outputId": "ff9ba0dd-a6f4-4638-fd71-f58557f3a81d"
      },
      "execution_count": 9,
      "outputs": [
        {
          "output_type": "stream",
          "name": "stdout",
          "text": [
            "         Age  Gender  Salary\n",
            "Name                        \n",
            "John      25    Male   50000\n",
            "Alice     30  Female   55000\n",
            "Bob       22    Male   40000\n",
            "Eve       35  Female   70000\n",
            "Charlie   28    Male   48000\n"
          ]
        }
      ]
    },
    {
      "cell_type": "code",
      "source": [
        "df_name.loc['John']"
      ],
      "metadata": {
        "colab": {
          "base_uri": "https://localhost:8080/",
          "height": 178
        },
        "id": "YXDxscJECTEc",
        "outputId": "e1995b6f-332c-447c-b20b-a9f36b2c6f63"
      },
      "execution_count": 10,
      "outputs": [
        {
          "output_type": "execute_result",
          "data": {
            "text/plain": [
              "Age          25\n",
              "Gender     Male\n",
              "Salary    50000\n",
              "Name: John, dtype: object"
            ],
            "text/html": [
              "<div>\n",
              "<style scoped>\n",
              "    .dataframe tbody tr th:only-of-type {\n",
              "        vertical-align: middle;\n",
              "    }\n",
              "\n",
              "    .dataframe tbody tr th {\n",
              "        vertical-align: top;\n",
              "    }\n",
              "\n",
              "    .dataframe thead th {\n",
              "        text-align: right;\n",
              "    }\n",
              "</style>\n",
              "<table border=\"1\" class=\"dataframe\">\n",
              "  <thead>\n",
              "    <tr style=\"text-align: right;\">\n",
              "      <th></th>\n",
              "      <th>John</th>\n",
              "    </tr>\n",
              "  </thead>\n",
              "  <tbody>\n",
              "    <tr>\n",
              "      <th>Age</th>\n",
              "      <td>25</td>\n",
              "    </tr>\n",
              "    <tr>\n",
              "      <th>Gender</th>\n",
              "      <td>Male</td>\n",
              "    </tr>\n",
              "    <tr>\n",
              "      <th>Salary</th>\n",
              "      <td>50000</td>\n",
              "    </tr>\n",
              "  </tbody>\n",
              "</table>\n",
              "</div><br><label><b>dtype:</b> object</label>"
            ]
          },
          "metadata": {},
          "execution_count": 10
        }
      ]
    },
    {
      "cell_type": "code",
      "source": [
        "df_name.loc['John','Gender']"
      ],
      "metadata": {
        "colab": {
          "base_uri": "https://localhost:8080/",
          "height": 36
        },
        "id": "uqiWar7OCTA8",
        "outputId": "99cd9549-84ca-4e58-c15f-d71d81dadd58"
      },
      "execution_count": 11,
      "outputs": [
        {
          "output_type": "execute_result",
          "data": {
            "text/plain": [
              "'Male'"
            ],
            "application/vnd.google.colaboratory.intrinsic+json": {
              "type": "string"
            }
          },
          "metadata": {},
          "execution_count": 11
        }
      ]
    },
    {
      "cell_type": "markdown",
      "source": [
        "##Indexing and Selecting Data with Pandas"
      ],
      "metadata": {
        "id": "Ia8BU1WaQTt3"
      }
    },
    {
      "cell_type": "code",
      "source": [
        "data= pd.read_csv(\"nba.csv\", index_col= \"Name\")\n",
        "print(data.head(5))"
      ],
      "metadata": {
        "id": "f-bWvtyBsNFm",
        "outputId": "8e2445c8-106a-4e97-b30f-dd95e83838b9",
        "colab": {
          "base_uri": "https://localhost:8080/",
          "height": 315
        }
      },
      "execution_count": 12,
      "outputs": [
        {
          "output_type": "error",
          "ename": "FileNotFoundError",
          "evalue": "[Errno 2] No such file or directory: 'nba.csv'",
          "traceback": [
            "\u001b[0;31m---------------------------------------------------------------------------\u001b[0m",
            "\u001b[0;31mFileNotFoundError\u001b[0m                         Traceback (most recent call last)",
            "\u001b[0;32m/tmp/ipython-input-12-4011414818.py\u001b[0m in \u001b[0;36m<cell line: 0>\u001b[0;34m()\u001b[0m\n\u001b[0;32m----> 1\u001b[0;31m \u001b[0mdata\u001b[0m\u001b[0;34m=\u001b[0m \u001b[0mpd\u001b[0m\u001b[0;34m.\u001b[0m\u001b[0mread_csv\u001b[0m\u001b[0;34m(\u001b[0m\u001b[0;34m\"nba.csv\"\u001b[0m\u001b[0;34m,\u001b[0m \u001b[0mindex_col\u001b[0m\u001b[0;34m=\u001b[0m \u001b[0;34m\"Name\"\u001b[0m\u001b[0;34m)\u001b[0m\u001b[0;34m\u001b[0m\u001b[0;34m\u001b[0m\u001b[0m\n\u001b[0m\u001b[1;32m      2\u001b[0m \u001b[0mprint\u001b[0m\u001b[0;34m(\u001b[0m\u001b[0mdata\u001b[0m\u001b[0;34m.\u001b[0m\u001b[0mhead\u001b[0m\u001b[0;34m(\u001b[0m\u001b[0;36m5\u001b[0m\u001b[0;34m)\u001b[0m\u001b[0;34m)\u001b[0m\u001b[0;34m\u001b[0m\u001b[0;34m\u001b[0m\u001b[0m\n",
            "\u001b[0;32m/usr/local/lib/python3.11/dist-packages/pandas/io/parsers/readers.py\u001b[0m in \u001b[0;36mread_csv\u001b[0;34m(filepath_or_buffer, sep, delimiter, header, names, index_col, usecols, dtype, engine, converters, true_values, false_values, skipinitialspace, skiprows, skipfooter, nrows, na_values, keep_default_na, na_filter, verbose, skip_blank_lines, parse_dates, infer_datetime_format, keep_date_col, date_parser, date_format, dayfirst, cache_dates, iterator, chunksize, compression, thousands, decimal, lineterminator, quotechar, quoting, doublequote, escapechar, comment, encoding, encoding_errors, dialect, on_bad_lines, delim_whitespace, low_memory, memory_map, float_precision, storage_options, dtype_backend)\u001b[0m\n\u001b[1;32m   1024\u001b[0m     \u001b[0mkwds\u001b[0m\u001b[0;34m.\u001b[0m\u001b[0mupdate\u001b[0m\u001b[0;34m(\u001b[0m\u001b[0mkwds_defaults\u001b[0m\u001b[0;34m)\u001b[0m\u001b[0;34m\u001b[0m\u001b[0;34m\u001b[0m\u001b[0m\n\u001b[1;32m   1025\u001b[0m \u001b[0;34m\u001b[0m\u001b[0m\n\u001b[0;32m-> 1026\u001b[0;31m     \u001b[0;32mreturn\u001b[0m \u001b[0m_read\u001b[0m\u001b[0;34m(\u001b[0m\u001b[0mfilepath_or_buffer\u001b[0m\u001b[0;34m,\u001b[0m \u001b[0mkwds\u001b[0m\u001b[0;34m)\u001b[0m\u001b[0;34m\u001b[0m\u001b[0;34m\u001b[0m\u001b[0m\n\u001b[0m\u001b[1;32m   1027\u001b[0m \u001b[0;34m\u001b[0m\u001b[0m\n\u001b[1;32m   1028\u001b[0m \u001b[0;34m\u001b[0m\u001b[0m\n",
            "\u001b[0;32m/usr/local/lib/python3.11/dist-packages/pandas/io/parsers/readers.py\u001b[0m in \u001b[0;36m_read\u001b[0;34m(filepath_or_buffer, kwds)\u001b[0m\n\u001b[1;32m    618\u001b[0m \u001b[0;34m\u001b[0m\u001b[0m\n\u001b[1;32m    619\u001b[0m     \u001b[0;31m# Create the parser.\u001b[0m\u001b[0;34m\u001b[0m\u001b[0;34m\u001b[0m\u001b[0m\n\u001b[0;32m--> 620\u001b[0;31m     \u001b[0mparser\u001b[0m \u001b[0;34m=\u001b[0m \u001b[0mTextFileReader\u001b[0m\u001b[0;34m(\u001b[0m\u001b[0mfilepath_or_buffer\u001b[0m\u001b[0;34m,\u001b[0m \u001b[0;34m**\u001b[0m\u001b[0mkwds\u001b[0m\u001b[0;34m)\u001b[0m\u001b[0;34m\u001b[0m\u001b[0;34m\u001b[0m\u001b[0m\n\u001b[0m\u001b[1;32m    621\u001b[0m \u001b[0;34m\u001b[0m\u001b[0m\n\u001b[1;32m    622\u001b[0m     \u001b[0;32mif\u001b[0m \u001b[0mchunksize\u001b[0m \u001b[0;32mor\u001b[0m \u001b[0miterator\u001b[0m\u001b[0;34m:\u001b[0m\u001b[0;34m\u001b[0m\u001b[0;34m\u001b[0m\u001b[0m\n",
            "\u001b[0;32m/usr/local/lib/python3.11/dist-packages/pandas/io/parsers/readers.py\u001b[0m in \u001b[0;36m__init__\u001b[0;34m(self, f, engine, **kwds)\u001b[0m\n\u001b[1;32m   1618\u001b[0m \u001b[0;34m\u001b[0m\u001b[0m\n\u001b[1;32m   1619\u001b[0m         \u001b[0mself\u001b[0m\u001b[0;34m.\u001b[0m\u001b[0mhandles\u001b[0m\u001b[0;34m:\u001b[0m \u001b[0mIOHandles\u001b[0m \u001b[0;34m|\u001b[0m \u001b[0;32mNone\u001b[0m \u001b[0;34m=\u001b[0m \u001b[0;32mNone\u001b[0m\u001b[0;34m\u001b[0m\u001b[0;34m\u001b[0m\u001b[0m\n\u001b[0;32m-> 1620\u001b[0;31m         \u001b[0mself\u001b[0m\u001b[0;34m.\u001b[0m\u001b[0m_engine\u001b[0m \u001b[0;34m=\u001b[0m \u001b[0mself\u001b[0m\u001b[0;34m.\u001b[0m\u001b[0m_make_engine\u001b[0m\u001b[0;34m(\u001b[0m\u001b[0mf\u001b[0m\u001b[0;34m,\u001b[0m \u001b[0mself\u001b[0m\u001b[0;34m.\u001b[0m\u001b[0mengine\u001b[0m\u001b[0;34m)\u001b[0m\u001b[0;34m\u001b[0m\u001b[0;34m\u001b[0m\u001b[0m\n\u001b[0m\u001b[1;32m   1621\u001b[0m \u001b[0;34m\u001b[0m\u001b[0m\n\u001b[1;32m   1622\u001b[0m     \u001b[0;32mdef\u001b[0m \u001b[0mclose\u001b[0m\u001b[0;34m(\u001b[0m\u001b[0mself\u001b[0m\u001b[0;34m)\u001b[0m \u001b[0;34m->\u001b[0m \u001b[0;32mNone\u001b[0m\u001b[0;34m:\u001b[0m\u001b[0;34m\u001b[0m\u001b[0;34m\u001b[0m\u001b[0m\n",
            "\u001b[0;32m/usr/local/lib/python3.11/dist-packages/pandas/io/parsers/readers.py\u001b[0m in \u001b[0;36m_make_engine\u001b[0;34m(self, f, engine)\u001b[0m\n\u001b[1;32m   1878\u001b[0m                 \u001b[0;32mif\u001b[0m \u001b[0;34m\"b\"\u001b[0m \u001b[0;32mnot\u001b[0m \u001b[0;32min\u001b[0m \u001b[0mmode\u001b[0m\u001b[0;34m:\u001b[0m\u001b[0;34m\u001b[0m\u001b[0;34m\u001b[0m\u001b[0m\n\u001b[1;32m   1879\u001b[0m                     \u001b[0mmode\u001b[0m \u001b[0;34m+=\u001b[0m \u001b[0;34m\"b\"\u001b[0m\u001b[0;34m\u001b[0m\u001b[0;34m\u001b[0m\u001b[0m\n\u001b[0;32m-> 1880\u001b[0;31m             self.handles = get_handle(\n\u001b[0m\u001b[1;32m   1881\u001b[0m                 \u001b[0mf\u001b[0m\u001b[0;34m,\u001b[0m\u001b[0;34m\u001b[0m\u001b[0;34m\u001b[0m\u001b[0m\n\u001b[1;32m   1882\u001b[0m                 \u001b[0mmode\u001b[0m\u001b[0;34m,\u001b[0m\u001b[0;34m\u001b[0m\u001b[0;34m\u001b[0m\u001b[0m\n",
            "\u001b[0;32m/usr/local/lib/python3.11/dist-packages/pandas/io/common.py\u001b[0m in \u001b[0;36mget_handle\u001b[0;34m(path_or_buf, mode, encoding, compression, memory_map, is_text, errors, storage_options)\u001b[0m\n\u001b[1;32m    871\u001b[0m         \u001b[0;32mif\u001b[0m \u001b[0mioargs\u001b[0m\u001b[0;34m.\u001b[0m\u001b[0mencoding\u001b[0m \u001b[0;32mand\u001b[0m \u001b[0;34m\"b\"\u001b[0m \u001b[0;32mnot\u001b[0m \u001b[0;32min\u001b[0m \u001b[0mioargs\u001b[0m\u001b[0;34m.\u001b[0m\u001b[0mmode\u001b[0m\u001b[0;34m:\u001b[0m\u001b[0;34m\u001b[0m\u001b[0;34m\u001b[0m\u001b[0m\n\u001b[1;32m    872\u001b[0m             \u001b[0;31m# Encoding\u001b[0m\u001b[0;34m\u001b[0m\u001b[0;34m\u001b[0m\u001b[0m\n\u001b[0;32m--> 873\u001b[0;31m             handle = open(\n\u001b[0m\u001b[1;32m    874\u001b[0m                 \u001b[0mhandle\u001b[0m\u001b[0;34m,\u001b[0m\u001b[0;34m\u001b[0m\u001b[0;34m\u001b[0m\u001b[0m\n\u001b[1;32m    875\u001b[0m                 \u001b[0mioargs\u001b[0m\u001b[0;34m.\u001b[0m\u001b[0mmode\u001b[0m\u001b[0;34m,\u001b[0m\u001b[0;34m\u001b[0m\u001b[0;34m\u001b[0m\u001b[0m\n",
            "\u001b[0;31mFileNotFoundError\u001b[0m: [Errno 2] No such file or directory: 'nba.csv'"
          ]
        }
      ]
    },
    {
      "cell_type": "code",
      "source": [
        "#selecting single column\n",
        "fdata= data['Age']\n",
        "fdata.head(5)"
      ],
      "metadata": {
        "id": "j9jKbIHCsM2t"
      },
      "execution_count": null,
      "outputs": []
    },
    {
      "cell_type": "code",
      "source": [
        "#selecting multiple column\n",
        "fdata= data[['Age', 'College', 'Salary']]\n",
        "fdata"
      ],
      "metadata": {
        "id": "kCTC76b1sMUr"
      },
      "execution_count": null,
      "outputs": []
    },
    {
      "cell_type": "code",
      "source": [
        "data.loc[\"Jonas Jerebko\"]"
      ],
      "metadata": {
        "id": "IdKAYILei1ac"
      },
      "execution_count": null,
      "outputs": []
    },
    {
      "cell_type": "code",
      "source": [
        "data.loc[\"Jonas Jerebko\"]"
      ],
      "metadata": {
        "id": "o03fq8FLjcjo"
      },
      "execution_count": null,
      "outputs": []
    },
    {
      "cell_type": "code",
      "source": [
        "data.loc['Raul Neto', 'Age']"
      ],
      "metadata": {
        "id": "dn6-7slctXeh"
      },
      "execution_count": null,
      "outputs": []
    },
    {
      "cell_type": "code",
      "source": [
        "data.head(15)"
      ],
      "metadata": {
        "id": "J1o0W6Dkh8_0"
      },
      "execution_count": null,
      "outputs": []
    },
    {
      "cell_type": "code",
      "source": [
        "#selecting multiple rows and columns\n",
        "data.loc[['Jordan Mickey', 'Evan Turner', 'Tyler Zeller'],['Team', 'Age']]"
      ],
      "metadata": {
        "id": "-jQFgTmC3r6_"
      },
      "execution_count": null,
      "outputs": []
    },
    {
      "cell_type": "code",
      "source": [
        "#selecting all rows and some col\n",
        "data.loc[:,['Team', 'Age']]"
      ],
      "metadata": {
        "id": "AwxVQq-i363M"
      },
      "execution_count": null,
      "outputs": []
    },
    {
      "cell_type": "code",
      "source": [
        "#selecting all rows and some columns\n",
        "data.loc[:,['Team', 'Number', 'Position']]"
      ],
      "metadata": {
        "id": "xMva4RFN7lLs"
      },
      "execution_count": null,
      "outputs": []
    },
    {
      "cell_type": "code",
      "source": [
        "#selecting some rows and all columns\n",
        "data.loc[['Jordan Mickey', 'Evan Turner', 'Tyler Zeller'],:]"
      ],
      "metadata": {
        "id": "XRhh-aUg77cD"
      },
      "execution_count": null,
      "outputs": []
    },
    {
      "cell_type": "code",
      "source": [
        "#selecting a single row\n",
        "data.loc['John Holland']"
      ],
      "metadata": {
        "id": "O1MyrICa-SEO"
      },
      "execution_count": null,
      "outputs": []
    },
    {
      "cell_type": "markdown",
      "source": [
        "#iloc"
      ],
      "metadata": {
        "id": "10toMBGw3ra4"
      }
    },
    {
      "cell_type": "markdown",
      "source": [
        "##selcting rows and columns using integer index"
      ],
      "metadata": {
        "id": "-6YsF7Wm3uIL"
      }
    },
    {
      "cell_type": "code",
      "source": [
        "#using iloc for integer position\n",
        "data.iloc[2]"
      ],
      "metadata": {
        "id": "xdEu_LOD-R9e"
      },
      "execution_count": null,
      "outputs": []
    },
    {
      "cell_type": "code",
      "source": [
        "#selecting rows using integer index using iloc\n",
        "data.iloc[[2,5,9,21]]"
      ],
      "metadata": {
        "id": "XZTxUmud-R0e"
      },
      "execution_count": null,
      "outputs": []
    },
    {
      "cell_type": "code",
      "source": [
        "#selecting specific rows and columns\n",
        "data.iloc[[6, 8, 21, 24],[3, 6, 7]]"
      ],
      "metadata": {
        "id": "SdJPGHLMBCm-"
      },
      "execution_count": null,
      "outputs": []
    },
    {
      "cell_type": "code",
      "source": [
        "#selecting all rows and some columns\n",
        "data.iloc[:, [3, 6, 7]]"
      ],
      "metadata": {
        "id": "sBna9L3n6auX"
      },
      "execution_count": null,
      "outputs": []
    },
    {
      "cell_type": "code",
      "source": [
        "#selecting some rows and all columns\n",
        "data.iloc[[3, 6, 7],:]"
      ],
      "metadata": {
        "id": "T_ffS9KA7uLM"
      },
      "execution_count": null,
      "outputs": []
    },
    {
      "cell_type": "code",
      "source": [],
      "metadata": {
        "id": "ByRj9NAkll_w"
      },
      "execution_count": null,
      "outputs": []
    },
    {
      "cell_type": "markdown",
      "source": [
        "#Slicing in Pandas Dataframe"
      ],
      "metadata": {
        "id": "vBU2pKAll7vR"
      }
    },
    {
      "cell_type": "code",
      "execution_count": null,
      "metadata": {
        "id": "h86--w8MlQQf"
      },
      "outputs": [],
      "source": [
        "import pandas as pd"
      ]
    },
    {
      "cell_type": "code",
      "source": [
        "player_list = [['M.S.Dhoni', 36, 75, 5428000],\n",
        "               ['A.B.D Villers', 38, 74, 3428000],\n",
        "               ['V.Kohli', 31, 70, 8428000],\n",
        "               ['S.Smith', 34, 80, 4428000],\n",
        "               ['C.Gayle', 40, 100, 4528000],\n",
        "               ['J.Root', 33, 72, 7028000],\n",
        "               ['K.Peterson', 42, 85, 2528000]]\n",
        "\n",
        "df= pd.DataFrame(player_list, columns=['Name', 'Age', 'Weight', 'Salary'])\n",
        "print(df)"
      ],
      "metadata": {
        "id": "lHaBDG_ZmO-h"
      },
      "execution_count": null,
      "outputs": []
    },
    {
      "cell_type": "markdown",
      "source": [
        "#iloc"
      ],
      "metadata": {
        "id": "YvJaLNDlsdj0"
      }
    },
    {
      "cell_type": "markdown",
      "source": [
        "slicing columns"
      ],
      "metadata": {
        "id": "G1RZpA9iohQ1"
      }
    },
    {
      "cell_type": "code",
      "source": [
        "df1= df.iloc[:, 0:2]\n",
        "print(df1)"
      ],
      "metadata": {
        "id": "X8yqYYVHmO7P"
      },
      "execution_count": null,
      "outputs": []
    },
    {
      "cell_type": "markdown",
      "source": [
        "accesing specific value/cell"
      ],
      "metadata": {
        "id": "K5C192-drN5t"
      }
    },
    {
      "cell_type": "code",
      "source": [
        "value= df.iloc[3,1]\n",
        "print(value)"
      ],
      "metadata": {
        "id": "lKfUEBjamO4I"
      },
      "execution_count": null,
      "outputs": []
    },
    {
      "cell_type": "markdown",
      "source": [
        "using boolean condition in Pandas DF"
      ],
      "metadata": {
        "id": "b2lXhz-2sDgg"
      }
    },
    {
      "cell_type": "code",
      "source": [
        "data= df[df['Age'] > 35].iloc[:, :]\n",
        "print(data)"
      ],
      "metadata": {
        "id": "Ep1cHtwCmO0W"
      },
      "execution_count": null,
      "outputs": []
    },
    {
      "cell_type": "markdown",
      "source": [
        "#loc"
      ],
      "metadata": {
        "id": "TY9_5DTNjIcw"
      }
    },
    {
      "cell_type": "markdown",
      "source": [
        "slicing rows in df"
      ],
      "metadata": {
        "id": "H0LlDaM2kJw8"
      }
    },
    {
      "cell_type": "code",
      "source": [
        "print(df.loc['C.Gayle' : 'K.Peterson'])"
      ],
      "metadata": {
        "id": "kZAuqhgcmOwU"
      },
      "execution_count": null,
      "outputs": []
    },
    {
      "cell_type": "markdown",
      "source": [
        "selecting specific cell in df"
      ],
      "metadata": {
        "id": "F0fDBpD4kdkH"
      }
    },
    {
      "cell_type": "code",
      "source": [
        "print('---J.Root---')\n",
        "df.set_index('Name', inplace=True)  #set Name as Index to make Name key\n",
        "print('Salary: ', df.loc['J.Root', 'Salary'])\n",
        "print('Age: ',df.loc['J.Root', 'Age'])"
      ],
      "metadata": {
        "id": "XSZ0Fd2pRmk5"
      },
      "execution_count": null,
      "outputs": []
    },
    {
      "cell_type": "code",
      "source": [],
      "metadata": {
        "id": "f8kKnwdJRr26"
      },
      "execution_count": null,
      "outputs": []
    },
    {
      "cell_type": "code",
      "execution_count": null,
      "metadata": {
        "id": "Xk_VdwH_m8t4"
      },
      "outputs": [],
      "source": [
        "import pandas as pd"
      ]
    },
    {
      "cell_type": "code",
      "source": [
        "df = pd.DataFrame({'Name': [' RACHEL  ', ' MONICA  ', ' PHOEBE  ',\n",
        "                                   '  ROSS    ', 'CHANDLER', ' JOEY    '],\n",
        "\n",
        "                          'Age': [30, 35, 37, 33, 34, 30],\n",
        "\n",
        "                          'Salary': [100000, 93000, 88000, 120000, 94000, 95000],\n",
        "\n",
        "                          'JOB': ['DESIGNER', 'CHEF', 'MASUS', 'PALENTOLOGY',\n",
        "                                  'IT', 'ARTIST']})"
      ],
      "metadata": {
        "id": "JUYH-qoNncuq"
      },
      "execution_count": null,
      "outputs": []
    },
    {
      "cell_type": "code",
      "source": [
        "display(df)"
      ],
      "metadata": {
        "id": "e-wTbk2JoVfe"
      },
      "execution_count": null,
      "outputs": []
    },
    {
      "cell_type": "markdown",
      "source": [
        "filter df"
      ],
      "metadata": {
        "id": "HYFEt6NQokeC"
      }
    },
    {
      "cell_type": "code",
      "source": [
        "display(df.loc[(df['Salary']>= 90000) & (df['Age']>30)])"
      ],
      "metadata": {
        "id": "JW5K6XZuoYnn"
      },
      "execution_count": null,
      "outputs": []
    },
    {
      "cell_type": "code",
      "source": [
        "print(df.loc[(df['Salary']>= 90000) & (df['Age']>30) & (df['JOB'].str.startswith(('I', 'C')))])"
      ],
      "metadata": {
        "id": "o6AlyFrao5tq"
      },
      "execution_count": null,
      "outputs": []
    },
    {
      "cell_type": "code",
      "source": [
        "display(df.loc[(df['Salary']>= 90000) & (df['Age']>30) & (df['JOB'].str.startswith(('C', 'I'))),['Name', 'JOB']] )"
      ],
      "metadata": {
        "id": "vEadf6R0wCRR"
      },
      "execution_count": null,
      "outputs": []
    },
    {
      "cell_type": "markdown",
      "source": [
        "Filter DataFrame Based on Multiple Conditions in Pandas"
      ],
      "metadata": {
        "id": "D5N7GJDQMRGo"
      }
    },
    {
      "cell_type": "code",
      "source": [
        "print(df[(df['Age']>30)])"
      ],
      "metadata": {
        "id": "iN9Zrzk5x9Bi"
      },
      "execution_count": null,
      "outputs": []
    },
    {
      "cell_type": "code",
      "source": [
        "print(df[(df['Age']>30) & (df['Salary']>90000)])"
      ],
      "metadata": {
        "id": "mKr7hjv8M7yB"
      },
      "execution_count": null,
      "outputs": []
    },
    {
      "cell_type": "code",
      "source": [
        "print(df[(df['Age']>30) & (df['Salary']>90000) & (df['JOB']== 'CHEF')])"
      ],
      "metadata": {
        "id": "bnXRHN2ZNktP"
      },
      "execution_count": null,
      "outputs": []
    },
    {
      "cell_type": "markdown",
      "source": [
        "Filter DataFrame by List of Values in Pandas"
      ],
      "metadata": {
        "id": "jXxf4-vGN0Q8"
      }
    },
    {
      "cell_type": "code",
      "source": [
        "#only list like objects are allowed to pass in .isin()\n",
        "job= ['IT']\n",
        "df[df['JOB'].isin(job)]"
      ],
      "metadata": {
        "id": "0Ft4VhaQNrZG"
      },
      "execution_count": null,
      "outputs": []
    },
    {
      "cell_type": "code",
      "source": [
        "job= ['IT', 'CHEF']\n",
        "df[df['JOB'].isin(job)]"
      ],
      "metadata": {
        "id": "RV0NaBJLPCca"
      },
      "execution_count": null,
      "outputs": []
    },
    {
      "cell_type": "markdown",
      "source": [
        "Filter Pandas DataFrame by Column"
      ],
      "metadata": {
        "id": "6N_RhjDbPho2"
      }
    },
    {
      "cell_type": "markdown",
      "source": [
        "#####*Filtering by column generally means selecting a **specific** column from the DataFrame*"
      ],
      "metadata": {
        "id": "XzGDyAGlP7-5"
      }
    },
    {
      "cell_type": "code",
      "source": [
        "print(df['Name'])"
      ],
      "metadata": {
        "id": "Jt9zLXWtPQY1"
      },
      "execution_count": null,
      "outputs": []
    },
    {
      "cell_type": "code",
      "source": [
        "#error-> for only selecting specific column\n",
        "#print(df['Name', 'Age'])"
      ],
      "metadata": {
        "id": "_VBMz5CwPmXo"
      },
      "execution_count": null,
      "outputs": []
    }
  ]
}