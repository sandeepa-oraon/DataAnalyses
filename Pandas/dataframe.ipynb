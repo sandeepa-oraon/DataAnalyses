{
  "nbformat": 4,
  "nbformat_minor": 0,
  "metadata": {
    "colab": {
      "provenance": [],
      "name": "dataframe.ipynb",
      "authorship_tag": "ABX9TyPDfHRYN8qzLYRQiDLav+9s",
      "include_colab_link": true
    },
    "kernelspec": {
      "name": "python3",
      "display_name": "Python 3"
    },
    "language_info": {
      "name": "python"
    }
  },
  "cells": [
    {
      "cell_type": "markdown",
      "metadata": {
        "id": "view-in-github",
        "colab_type": "text"
      },
      "source": [
        "<a href=\"https://colab.research.google.com/github/sandeepa-oraon/DataAnalyses/blob/main/Pandas/dataframe.ipynb\" target=\"_parent\"><img src=\"https://colab.research.google.com/assets/colab-badge.svg\" alt=\"Open In Colab\"/></a>"
      ]
    },
    {
      "cell_type": "code",
      "execution_count": null,
      "metadata": {
        "id": "p-tSKsPO5LPd"
      },
      "outputs": [],
      "source": [
        "import pandas as pd"
      ]
    },
    {
      "cell_type": "code",
      "source": [
        "df= pd.DataFrame()\n",
        "print(df)"
      ],
      "metadata": {
        "id": "EZqFesfq5SN0",
        "colab": {
          "base_uri": "https://localhost:8080/"
        },
        "outputId": "0f938c87-c2ad-4f72-8273-374fe6d4c0df"
      },
      "execution_count": null,
      "outputs": [
        {
          "output_type": "stream",
          "name": "stdout",
          "text": [
            "Empty DataFrame\n",
            "Columns: []\n",
            "Index: []\n"
          ]
        }
      ]
    },
    {
      "cell_type": "code",
      "source": [
        "lst= ['hello', 'my', 'name', 'is', 'sandeepa']\n",
        "df= pd.DataFrame(lst)\n",
        "print(df)"
      ],
      "metadata": {
        "colab": {
          "base_uri": "https://localhost:8080/"
        },
        "id": "3VOj0uqP6krM",
        "outputId": "defdfd24-6b3d-4baa-86a8-ab5ef08c70b5"
      },
      "execution_count": null,
      "outputs": [
        {
          "output_type": "stream",
          "name": "stdout",
          "text": [
            "          0\n",
            "0     hello\n",
            "1        my\n",
            "2      name\n",
            "3        is\n",
            "4  sandeepa\n"
          ]
        }
      ]
    },
    {
      "cell_type": "code",
      "source": [],
      "metadata": {
        "id": "MeyPA8AN671W"
      },
      "execution_count": null,
      "outputs": []
    }
  ]
}