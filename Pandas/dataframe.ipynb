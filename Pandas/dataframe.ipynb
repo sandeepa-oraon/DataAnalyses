{
  "nbformat": 4,
  "nbformat_minor": 0,
  "metadata": {
    "colab": {
      "provenance": [],
      "name": "dataframe.ipynb",
      "authorship_tag": "ABX9TyPiwDxGw6HiuF4I40dD1kiT",
      "include_colab_link": true
    },
    "kernelspec": {
      "name": "python3",
      "display_name": "Python 3"
    },
    "language_info": {
      "name": "python"
    }
  },
  "cells": [
    {
      "cell_type": "markdown",
      "metadata": {
        "id": "view-in-github",
        "colab_type": "text"
      },
      "source": [
        "<a href=\"https://colab.research.google.com/github/sandeepa-oraon/DataAnalyses/blob/main/Pandas/dataframe.ipynb\" target=\"_parent\"><img src=\"https://colab.research.google.com/assets/colab-badge.svg\" alt=\"Open In Colab\"/></a>"
      ]
    },
    {
      "cell_type": "code",
      "execution_count": 2,
      "metadata": {
        "id": "p-tSKsPO5LPd"
      },
      "outputs": [],
      "source": [
        "import pandas as pd"
      ]
    },
    {
      "cell_type": "code",
      "source": [
        "df= pd.DataFrame()\n",
        "print(df)"
      ],
      "metadata": {
        "id": "EZqFesfq5SN0",
        "colab": {
          "base_uri": "https://localhost:8080/"
        },
        "outputId": "a52e2c50-94a3-4de8-8156-004c1d1d9733"
      },
      "execution_count": 3,
      "outputs": [
        {
          "output_type": "stream",
          "name": "stdout",
          "text": [
            "Empty DataFrame\n",
            "Columns: []\n",
            "Index: []\n"
          ]
        }
      ]
    },
    {
      "cell_type": "code",
      "source": [
        "#creating dataframe from list\n",
        "\n",
        "lst= ['hello', 'my', 'name', 'is', 'sandeepa']\n",
        "df= pd.DataFrame(lst)\n",
        "print(df)"
      ],
      "metadata": {
        "colab": {
          "base_uri": "https://localhost:8080/"
        },
        "id": "3VOj0uqP6krM",
        "outputId": "346cc8f4-18da-415b-cac3-d76bd36c73e0"
      },
      "execution_count": 4,
      "outputs": [
        {
          "output_type": "stream",
          "name": "stdout",
          "text": [
            "          0\n",
            "0     hello\n",
            "1        my\n",
            "2      name\n",
            "3        is\n",
            "4  sandeepa\n"
          ]
        }
      ]
    },
    {
      "cell_type": "code",
      "source": [
        "#creating dataframe from dist of lists\n",
        "lst1={'Name': ['Tom', 'nick', 'krish', 'jack'], 'Age':[20, 21, 19, 18]}\n",
        "df= pd.DataFrame(lst1)\n",
        "print(df)"
      ],
      "metadata": {
        "id": "MeyPA8AN671W",
        "colab": {
          "base_uri": "https://localhost:8080/"
        },
        "outputId": "3aac552f-86c3-4d10-8fe3-0c3cb15c978a"
      },
      "execution_count": 5,
      "outputs": [
        {
          "output_type": "stream",
          "name": "stdout",
          "text": [
            "    Name  Age\n",
            "0    Tom   20\n",
            "1   nick   21\n",
            "2  krish   19\n",
            "3   jack   18\n"
          ]
        }
      ]
    },
    {
      "cell_type": "code",
      "source": [],
      "metadata": {
        "id": "gkOCfV9B76s5"
      },
      "execution_count": null,
      "outputs": []
    },
    {
      "cell_type": "markdown",
      "source": [
        "##INDEXING (accessing and modifying)"
      ],
      "metadata": {
        "id": "Sw7wZyDbBYAA"
      }
    },
    {
      "cell_type": "code",
      "source": [
        "data = {'Name': ['John', 'Alice', 'Bob', 'Eve', 'Charlie'],\n",
        "        'Age': [25, 30, 22, 35, 28],\n",
        "        'Gender': ['Male', 'Female', 'Male', 'Female', 'Male'],\n",
        "        'Salary': [50000, 55000, 40000, 70000, 48000]}\n",
        "index_val=[1, 2, 3,4,5]"
      ],
      "metadata": {
        "id": "0ixao6pn8T6w"
      },
      "execution_count": 13,
      "outputs": []
    },
    {
      "cell_type": "code",
      "source": [
        "df= pd.DataFrame(data, index=index_val)\n",
        "print(df)"
      ],
      "metadata": {
        "id": "yw2UnkHj8Tjv",
        "colab": {
          "base_uri": "https://localhost:8080/"
        },
        "outputId": "724659ca-d4a0-49da-e44d-508bc184b90d"
      },
      "execution_count": 14,
      "outputs": [
        {
          "output_type": "stream",
          "name": "stdout",
          "text": [
            "      Name  Age  Gender  Salary\n",
            "1     John   25    Male   50000\n",
            "2    Alice   30  Female   55000\n",
            "3      Bob   22    Male   40000\n",
            "4      Eve   35  Female   70000\n",
            "5  Charlie   28    Male   48000\n"
          ]
        }
      ]
    },
    {
      "cell_type": "code",
      "source": [
        "df.loc[1]['Age']"
      ],
      "metadata": {
        "colab": {
          "base_uri": "https://localhost:8080/"
        },
        "id": "u08zg_b8CTLx",
        "outputId": "06f79211-0d48-4720-d45c-4bda200b63a2"
      },
      "execution_count": 20,
      "outputs": [
        {
          "output_type": "execute_result",
          "data": {
            "text/plain": [
              "25"
            ]
          },
          "metadata": {},
          "execution_count": 20
        }
      ]
    },
    {
      "cell_type": "code",
      "source": [
        "df.loc[1,'Age']"
      ],
      "metadata": {
        "colab": {
          "base_uri": "https://localhost:8080/"
        },
        "id": "lx9E0ao4PCme",
        "outputId": "091d96ce-773c-4048-979f-043ba00d3639"
      },
      "execution_count": 21,
      "outputs": [
        {
          "output_type": "execute_result",
          "data": {
            "text/plain": [
              "25"
            ]
          },
          "metadata": {},
          "execution_count": 21
        }
      ]
    },
    {
      "cell_type": "code",
      "source": [
        "df_name =df.set_index('Name')\n",
        "print(df_name)"
      ],
      "metadata": {
        "colab": {
          "base_uri": "https://localhost:8080/"
        },
        "id": "VSlsZznmCTIb",
        "outputId": "956a3320-6cc6-4dfa-c6ff-c592d501cf89"
      },
      "execution_count": 19,
      "outputs": [
        {
          "output_type": "stream",
          "name": "stdout",
          "text": [
            "         Age  Gender  Salary\n",
            "Name                        \n",
            "John      25    Male   50000\n",
            "Alice     30  Female   55000\n",
            "Bob       22    Male   40000\n",
            "Eve       35  Female   70000\n",
            "Charlie   28    Male   48000\n"
          ]
        }
      ]
    },
    {
      "cell_type": "code",
      "source": [
        "df_name.loc['John']"
      ],
      "metadata": {
        "colab": {
          "base_uri": "https://localhost:8080/",
          "height": 178
        },
        "id": "YXDxscJECTEc",
        "outputId": "5f4d6d67-e9b5-46c4-f8e1-30e9ffb76943"
      },
      "execution_count": 23,
      "outputs": [
        {
          "output_type": "execute_result",
          "data": {
            "text/plain": [
              "Age          25\n",
              "Gender     Male\n",
              "Salary    50000\n",
              "Name: John, dtype: object"
            ],
            "text/html": [
              "<div>\n",
              "<style scoped>\n",
              "    .dataframe tbody tr th:only-of-type {\n",
              "        vertical-align: middle;\n",
              "    }\n",
              "\n",
              "    .dataframe tbody tr th {\n",
              "        vertical-align: top;\n",
              "    }\n",
              "\n",
              "    .dataframe thead th {\n",
              "        text-align: right;\n",
              "    }\n",
              "</style>\n",
              "<table border=\"1\" class=\"dataframe\">\n",
              "  <thead>\n",
              "    <tr style=\"text-align: right;\">\n",
              "      <th></th>\n",
              "      <th>John</th>\n",
              "    </tr>\n",
              "  </thead>\n",
              "  <tbody>\n",
              "    <tr>\n",
              "      <th>Age</th>\n",
              "      <td>25</td>\n",
              "    </tr>\n",
              "    <tr>\n",
              "      <th>Gender</th>\n",
              "      <td>Male</td>\n",
              "    </tr>\n",
              "    <tr>\n",
              "      <th>Salary</th>\n",
              "      <td>50000</td>\n",
              "    </tr>\n",
              "  </tbody>\n",
              "</table>\n",
              "</div><br><label><b>dtype:</b> object</label>"
            ]
          },
          "metadata": {},
          "execution_count": 23
        }
      ]
    },
    {
      "cell_type": "code",
      "source": [
        "df_name.loc['John','Gender']"
      ],
      "metadata": {
        "colab": {
          "base_uri": "https://localhost:8080/",
          "height": 36
        },
        "id": "uqiWar7OCTA8",
        "outputId": "af10f238-22f2-470a-feef-d94b75455fd0"
      },
      "execution_count": 24,
      "outputs": [
        {
          "output_type": "execute_result",
          "data": {
            "text/plain": [
              "'Male'"
            ],
            "application/vnd.google.colaboratory.intrinsic+json": {
              "type": "string"
            }
          },
          "metadata": {},
          "execution_count": 24
        }
      ]
    },
    {
      "cell_type": "code",
      "source": [],
      "metadata": {
        "id": "5GcBjpxpCS9m"
      },
      "execution_count": null,
      "outputs": []
    },
    {
      "cell_type": "markdown",
      "source": [
        "##Indexing and Selecting Data with Pandas"
      ],
      "metadata": {
        "id": "Ia8BU1WaQTt3"
      }
    }
  ]
}