{
  "nbformat": 4,
  "nbformat_minor": 0,
  "metadata": {
    "colab": {
      "provenance": [],
      "name": "dataframe.ipynb",
      "authorship_tag": "ABX9TyPpYOPY95Jvstq/qnKJ97Vd",
      "include_colab_link": true
    },
    "kernelspec": {
      "name": "python3",
      "display_name": "Python 3"
    },
    "language_info": {
      "name": "python"
    }
  },
  "cells": [
    {
      "cell_type": "markdown",
      "metadata": {
        "id": "view-in-github",
        "colab_type": "text"
      },
      "source": [
        "<a href=\"https://colab.research.google.com/github/sandeepa-oraon/DataAnalyses/blob/main/Pandas/dataframe.ipynb\" target=\"_parent\"><img src=\"https://colab.research.google.com/assets/colab-badge.svg\" alt=\"Open In Colab\"/></a>"
      ]
    },
    {
      "cell_type": "code",
      "execution_count": 2,
      "metadata": {
        "id": "p-tSKsPO5LPd"
      },
      "outputs": [],
      "source": [
        "import pandas as pd"
      ]
    },
    {
      "cell_type": "code",
      "source": [
        "df= pd.DataFrame()\n",
        "print(df)"
      ],
      "metadata": {
        "id": "EZqFesfq5SN0",
        "colab": {
          "base_uri": "https://localhost:8080/"
        },
        "outputId": "8ac80070-7b5a-4325-c2f7-3eb6938419e2"
      },
      "execution_count": 3,
      "outputs": [
        {
          "output_type": "stream",
          "name": "stdout",
          "text": [
            "Empty DataFrame\n",
            "Columns: []\n",
            "Index: []\n"
          ]
        }
      ]
    },
    {
      "cell_type": "code",
      "source": [
        "#creating dataframe from list\n",
        "\n",
        "lst= ['hello', 'my', 'name', 'is', 'sandeepa']\n",
        "df= pd.DataFrame(lst)\n",
        "print(df)"
      ],
      "metadata": {
        "colab": {
          "base_uri": "https://localhost:8080/"
        },
        "id": "3VOj0uqP6krM",
        "outputId": "f2417a90-0691-4b7d-a6f5-2d0e002ff93a"
      },
      "execution_count": 4,
      "outputs": [
        {
          "output_type": "stream",
          "name": "stdout",
          "text": [
            "          0\n",
            "0     hello\n",
            "1        my\n",
            "2      name\n",
            "3        is\n",
            "4  sandeepa\n"
          ]
        }
      ]
    },
    {
      "cell_type": "code",
      "source": [
        "#creating dataframe from dist of lists\n",
        "lst1={'Name': ['Tom', 'nick', 'krish', 'jack'], 'Age':[20, 21, 19, 18]}\n",
        "df= pd.DataFrame(lst1)\n",
        "print(df)"
      ],
      "metadata": {
        "id": "MeyPA8AN671W",
        "colab": {
          "base_uri": "https://localhost:8080/"
        },
        "outputId": "b58a4493-4277-4ed4-8687-845a876ca765"
      },
      "execution_count": 5,
      "outputs": [
        {
          "output_type": "stream",
          "name": "stdout",
          "text": [
            "    Name  Age\n",
            "0    Tom   20\n",
            "1   nick   21\n",
            "2  krish   19\n",
            "3   jack   18\n"
          ]
        }
      ]
    },
    {
      "cell_type": "code",
      "source": [],
      "metadata": {
        "id": "gkOCfV9B76s5"
      },
      "execution_count": null,
      "outputs": []
    },
    {
      "cell_type": "code",
      "source": [],
      "metadata": {
        "id": "0ixao6pn8T6w"
      },
      "execution_count": null,
      "outputs": []
    },
    {
      "cell_type": "code",
      "source": [],
      "metadata": {
        "id": "yw2UnkHj8Tjv"
      },
      "execution_count": null,
      "outputs": []
    }
  ]
}