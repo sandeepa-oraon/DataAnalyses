{
  "nbformat": 4,
  "nbformat_minor": 0,
  "metadata": {
    "colab": {
      "provenance": [],
      "name": "dataframe.ipynb",
      "authorship_tag": "ABX9TyODhGdlIdF8kfOSiVfM5Thr"
    },
    "kernelspec": {
      "name": "python3",
      "display_name": "Python 3"
    },
    "language_info": {
      "name": "python"
    }
  },
  "cells": [
    {
      "cell_type": "code",
      "execution_count": null,
      "metadata": {
        "id": "p-tSKsPO5LPd"
      },
      "outputs": [],
      "source": []
    },
    {
      "cell_type": "code",
      "source": [],
      "metadata": {
        "id": "EZqFesfq5SN0"
      },
      "execution_count": null,
      "outputs": []
    }
  ]
}