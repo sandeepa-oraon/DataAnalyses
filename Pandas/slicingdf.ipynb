{
  "nbformat": 4,
  "nbformat_minor": 0,
  "metadata": {
    "colab": {
      "provenance": [],
      "authorship_tag": "ABX9TyMR3HCTgImBP3UZv7a+9lPM",
      "include_colab_link": true
    },
    "kernelspec": {
      "name": "python3",
      "display_name": "Python 3"
    },
    "language_info": {
      "name": "python"
    }
  },
  "cells": [
    {
      "cell_type": "markdown",
      "metadata": {
        "id": "view-in-github",
        "colab_type": "text"
      },
      "source": [
        "<a href=\"https://colab.research.google.com/github/sandeepa-oraon/DataAnalyses/blob/main/Pandas/slicingdf.ipynb\" target=\"_parent\"><img src=\"https://colab.research.google.com/assets/colab-badge.svg\" alt=\"Open In Colab\"/></a>"
      ]
    },
    {
      "cell_type": "markdown",
      "source": [
        "#Slicing in Pandas DataFrame(df)"
      ],
      "metadata": {
        "id": "ZIo0EMjvsIgt"
      }
    },
    {
      "cell_type": "code",
      "execution_count": 1,
      "metadata": {
        "id": "h86--w8MlQQf"
      },
      "outputs": [],
      "source": [
        "import pandas as pd"
      ]
    },
    {
      "cell_type": "code",
      "source": [],
      "metadata": {
        "id": "L0lmSjWWmPBh"
      },
      "execution_count": 1,
      "outputs": []
    },
    {
      "cell_type": "code",
      "source": [
        "player_list = [['M.S.Dhoni', 36, 75, 5428000],\n",
        "               ['A.B.D Villers', 38, 74, 3428000],\n",
        "               ['V.Kohli', 31, 70, 8428000],\n",
        "               ['S.Smith', 34, 80, 4428000],\n",
        "               ['C.Gayle', 40, 100, 4528000],\n",
        "               ['J.Root', 33, 72, 7028000],\n",
        "               ['K.Peterson', 42, 85, 2528000]]\n",
        "\n",
        "df= pd.DataFrame(player_list, columns=['Name', 'Age', 'Weight', 'Salary'])\n",
        "print(df)"
      ],
      "metadata": {
        "colab": {
          "base_uri": "https://localhost:8080/"
        },
        "id": "lHaBDG_ZmO-h",
        "outputId": "1c4303b0-a63a-44d6-ce70-66422b2b2911"
      },
      "execution_count": 2,
      "outputs": [
        {
          "output_type": "stream",
          "name": "stdout",
          "text": [
            "            Name  Age  Weight   Salary\n",
            "0      M.S.Dhoni   36      75  5428000\n",
            "1  A.B.D Villers   38      74  3428000\n",
            "2        V.Kohli   31      70  8428000\n",
            "3        S.Smith   34      80  4428000\n",
            "4        C.Gayle   40     100  4528000\n",
            "5         J.Root   33      72  7028000\n",
            "6     K.Peterson   42      85  2528000\n"
          ]
        }
      ]
    },
    {
      "cell_type": "markdown",
      "source": [
        "#iloc"
      ],
      "metadata": {
        "id": "YvJaLNDlsdj0"
      }
    },
    {
      "cell_type": "markdown",
      "source": [
        "slicing columns"
      ],
      "metadata": {
        "id": "G1RZpA9iohQ1"
      }
    },
    {
      "cell_type": "code",
      "source": [
        "df1= df.iloc[:, 0:2]\n",
        "print(df1)"
      ],
      "metadata": {
        "colab": {
          "base_uri": "https://localhost:8080/"
        },
        "id": "X8yqYYVHmO7P",
        "outputId": "1321fe01-a3fe-40b3-d318-c26ae0aa1e5a"
      },
      "execution_count": 3,
      "outputs": [
        {
          "output_type": "stream",
          "name": "stdout",
          "text": [
            "            Name  Age\n",
            "0      M.S.Dhoni   36\n",
            "1  A.B.D Villers   38\n",
            "2        V.Kohli   31\n",
            "3        S.Smith   34\n",
            "4        C.Gayle   40\n",
            "5         J.Root   33\n",
            "6     K.Peterson   42\n"
          ]
        }
      ]
    },
    {
      "cell_type": "markdown",
      "source": [
        "accesing specific value/cell"
      ],
      "metadata": {
        "id": "K5C192-drN5t"
      }
    },
    {
      "cell_type": "code",
      "source": [
        "value= df.iloc[3,1]\n",
        "print(value)"
      ],
      "metadata": {
        "colab": {
          "base_uri": "https://localhost:8080/"
        },
        "id": "lKfUEBjamO4I",
        "outputId": "800f7fe7-0510-4098-c369-a8b4b61a6077"
      },
      "execution_count": 4,
      "outputs": [
        {
          "output_type": "stream",
          "name": "stdout",
          "text": [
            "34\n"
          ]
        }
      ]
    },
    {
      "cell_type": "markdown",
      "source": [
        "using boolean condition in Pandas DF"
      ],
      "metadata": {
        "id": "b2lXhz-2sDgg"
      }
    },
    {
      "cell_type": "code",
      "source": [
        "data= df[df['Age'] > 35].iloc[:, :]\n",
        "print(data)"
      ],
      "metadata": {
        "id": "Ep1cHtwCmO0W",
        "outputId": "13d7a3ff-2b49-4c10-8cf7-16627b46868f",
        "colab": {
          "base_uri": "https://localhost:8080/"
        }
      },
      "execution_count": 5,
      "outputs": [
        {
          "output_type": "stream",
          "name": "stdout",
          "text": [
            "            Name  Age  Weight   Salary\n",
            "0      M.S.Dhoni   36      75  5428000\n",
            "1  A.B.D Villers   38      74  3428000\n",
            "4        C.Gayle   40     100  4528000\n",
            "6     K.Peterson   42      85  2528000\n"
          ]
        }
      ]
    },
    {
      "cell_type": "markdown",
      "source": [
        "#loc"
      ],
      "metadata": {
        "id": "TY9_5DTNjIcw"
      }
    },
    {
      "cell_type": "markdown",
      "source": [
        "slicing rows in df"
      ],
      "metadata": {
        "id": "H0LlDaM2kJw8"
      }
    },
    {
      "cell_type": "code",
      "source": [
        "print(df.loc['C.Gayle' : 'K.Peterson'])"
      ],
      "metadata": {
        "id": "kZAuqhgcmOwU",
        "outputId": "71b33585-7cbc-4b53-d5e3-cfa8507103e5",
        "colab": {
          "base_uri": "https://localhost:8080/"
        }
      },
      "execution_count": 13,
      "outputs": [
        {
          "output_type": "stream",
          "name": "stdout",
          "text": [
            "            Age  Weight   Salary\n",
            "Name                            \n",
            "C.Gayle      40     100  4528000\n",
            "J.Root       33      72  7028000\n",
            "K.Peterson   42      85  2528000\n"
          ]
        }
      ]
    },
    {
      "cell_type": "markdown",
      "source": [
        "selecting specific cell in df"
      ],
      "metadata": {
        "id": "F0fDBpD4kdkH"
      }
    },
    {
      "cell_type": "code",
      "source": [
        "print('---J.Root---')\n",
        "print('Salary: ', df.loc['J.Root', 'Salary'])\n",
        "print('Age: ',df.loc['J.Root', 'Age'])"
      ],
      "metadata": {
        "id": "WPjBFNwkj7Sn",
        "outputId": "2ef611db-29d0-4a1d-817d-4bcf89488453",
        "colab": {
          "base_uri": "https://localhost:8080/"
        }
      },
      "execution_count": 16,
      "outputs": [
        {
          "output_type": "stream",
          "name": "stdout",
          "text": [
            "---J.Root---\n",
            "Salary:  7028000\n",
            "Age:  33\n"
          ]
        }
      ]
    },
    {
      "cell_type": "code",
      "source": [],
      "metadata": {
        "id": "7JQJLhoUkpFW"
      },
      "execution_count": null,
      "outputs": []
    }
  ]
}