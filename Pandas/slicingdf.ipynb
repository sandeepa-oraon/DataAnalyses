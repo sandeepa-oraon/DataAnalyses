{
  "nbformat": 4,
  "nbformat_minor": 0,
  "metadata": {
    "colab": {
      "provenance": [],
      "authorship_tag": "ABX9TyPtP+pMLzwIWZpSSULIMJe8",
      "include_colab_link": true
    },
    "kernelspec": {
      "name": "python3",
      "display_name": "Python 3"
    },
    "language_info": {
      "name": "python"
    }
  },
  "cells": [
    {
      "cell_type": "markdown",
      "metadata": {
        "id": "view-in-github",
        "colab_type": "text"
      },
      "source": [
        "<a href=\"https://colab.research.google.com/github/sandeepa-oraon/DataAnalyses/blob/main/Pandas/slicingdf.ipynb\" target=\"_parent\"><img src=\"https://colab.research.google.com/assets/colab-badge.svg\" alt=\"Open In Colab\"/></a>"
      ]
    },
    {
      "cell_type": "markdown",
      "source": [
        "#Slicing in Pandas DataFrame(df)"
      ],
      "metadata": {
        "id": "ZIo0EMjvsIgt"
      }
    },
    {
      "cell_type": "code",
      "execution_count": null,
      "metadata": {
        "id": "h86--w8MlQQf"
      },
      "outputs": [],
      "source": [
        "import pandas as pd"
      ]
    },
    {
      "cell_type": "code",
      "source": [],
      "metadata": {
        "id": "L0lmSjWWmPBh"
      },
      "execution_count": null,
      "outputs": []
    },
    {
      "cell_type": "code",
      "source": [
        "player_list = [['M.S.Dhoni', 36, 75, 5428000],\n",
        "               ['A.B.D Villers', 38, 74, 3428000],\n",
        "               ['V.Kohli', 31, 70, 8428000],\n",
        "               ['S.Smith', 34, 80, 4428000],\n",
        "               ['C.Gayle', 40, 100, 4528000],\n",
        "               ['J.Root', 33, 72, 7028000],\n",
        "               ['K.Peterson', 42, 85, 2528000]]\n",
        "\n",
        "df= pd.DataFrame(player_list, columns=['Name', 'Age', 'Weight', 'Salary'])\n",
        "print(df)"
      ],
      "metadata": {
        "colab": {
          "base_uri": "https://localhost:8080/"
        },
        "id": "lHaBDG_ZmO-h",
        "outputId": "6c953ba6-5a74-4e12-811d-d8450dd8b387"
      },
      "execution_count": null,
      "outputs": [
        {
          "output_type": "stream",
          "name": "stdout",
          "text": [
            "            Name  Age  Weight   Salary\n",
            "0      M.S.Dhoni   36      75  5428000\n",
            "1  A.B.D Villers   38      74  3428000\n",
            "2        V.Kohli   31      70  8428000\n",
            "3        S.Smith   34      80  4428000\n",
            "4        C.Gayle   40     100  4528000\n",
            "5         J.Root   33      72  7028000\n",
            "6     K.Peterson   42      85  2528000\n"
          ]
        }
      ]
    },
    {
      "cell_type": "markdown",
      "source": [
        "#iloc"
      ],
      "metadata": {
        "id": "YvJaLNDlsdj0"
      }
    },
    {
      "cell_type": "markdown",
      "source": [
        "slicing columns"
      ],
      "metadata": {
        "id": "G1RZpA9iohQ1"
      }
    },
    {
      "cell_type": "code",
      "source": [
        "df1= df.iloc[:, 0:2]\n",
        "print(df1)"
      ],
      "metadata": {
        "colab": {
          "base_uri": "https://localhost:8080/"
        },
        "id": "X8yqYYVHmO7P",
        "outputId": "2f940c09-f88a-427e-dafb-0a08a202f9b8"
      },
      "execution_count": null,
      "outputs": [
        {
          "output_type": "stream",
          "name": "stdout",
          "text": [
            "            Name  Age\n",
            "0      M.S.Dhoni   36\n",
            "1  A.B.D Villers   38\n",
            "2        V.Kohli   31\n",
            "3        S.Smith   34\n",
            "4        C.Gayle   40\n",
            "5         J.Root   33\n",
            "6     K.Peterson   42\n"
          ]
        }
      ]
    },
    {
      "cell_type": "markdown",
      "source": [
        "accesing specific value/cell"
      ],
      "metadata": {
        "id": "K5C192-drN5t"
      }
    },
    {
      "cell_type": "code",
      "source": [
        "value= df.iloc[3,1]\n",
        "print(value)"
      ],
      "metadata": {
        "colab": {
          "base_uri": "https://localhost:8080/"
        },
        "id": "lKfUEBjamO4I",
        "outputId": "0b88a113-ef45-4599-85de-257eb197320a"
      },
      "execution_count": null,
      "outputs": [
        {
          "output_type": "stream",
          "name": "stdout",
          "text": [
            "34\n"
          ]
        }
      ]
    },
    {
      "cell_type": "markdown",
      "source": [
        "using boolean condition in Pandas DF"
      ],
      "metadata": {
        "id": "b2lXhz-2sDgg"
      }
    },
    {
      "cell_type": "code",
      "source": [
        "data= df[df['Age'] > 35].iloc[:, :]\n",
        "print(data)"
      ],
      "metadata": {
        "id": "Ep1cHtwCmO0W",
        "outputId": "0c5b2556-beba-443b-c737-523ce92a6715",
        "colab": {
          "base_uri": "https://localhost:8080/"
        }
      },
      "execution_count": null,
      "outputs": [
        {
          "output_type": "stream",
          "name": "stdout",
          "text": [
            "            Name  Age  Weight   Salary\n",
            "0      M.S.Dhoni   36      75  5428000\n",
            "1  A.B.D Villers   38      74  3428000\n",
            "4        C.Gayle   40     100  4528000\n",
            "6     K.Peterson   42      85  2528000\n"
          ]
        }
      ]
    },
    {
      "cell_type": "code",
      "source": [],
      "metadata": {
        "id": "kZAuqhgcmOwU"
      },
      "execution_count": null,
      "outputs": []
    },
    {
      "cell_type": "code",
      "source": [],
      "metadata": {
        "id": "24YddhJrmOtL"
      },
      "execution_count": null,
      "outputs": []
    }
  ]
}