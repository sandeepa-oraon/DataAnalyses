{
  "nbformat": 4,
  "nbformat_minor": 0,
  "metadata": {
    "colab": {
      "provenance": [],
      "authorship_tag": "ABX9TyPhTl7kA51Z+8lRGCZld5O/",
      "include_colab_link": true
    },
    "kernelspec": {
      "name": "python3",
      "display_name": "Python 3"
    },
    "language_info": {
      "name": "python"
    }
  },
  "cells": [
    {
      "cell_type": "markdown",
      "metadata": {
        "id": "view-in-github",
        "colab_type": "text"
      },
      "source": [
        "<a href=\"https://colab.research.google.com/github/sandeepa-oraon/DataAnalyses/blob/main/Pandas/slicingdf.ipynb\" target=\"_parent\"><img src=\"https://colab.research.google.com/assets/colab-badge.svg\" alt=\"Open In Colab\"/></a>"
      ]
    },
    {
      "cell_type": "markdown",
      "source": [
        "#Slicing in Pandas DataFrame(df)"
      ],
      "metadata": {
        "id": "ZIo0EMjvsIgt"
      }
    },
    {
      "cell_type": "code",
      "execution_count": 36,
      "metadata": {
        "id": "h86--w8MlQQf"
      },
      "outputs": [],
      "source": [
        "import pandas as pd"
      ]
    },
    {
      "cell_type": "code",
      "source": [],
      "metadata": {
        "id": "L0lmSjWWmPBh"
      },
      "execution_count": 36,
      "outputs": []
    },
    {
      "cell_type": "code",
      "source": [
        "player_list = [['M.S.Dhoni', 36, 75, 5428000],\n",
        "               ['A.B.D Villers', 38, 74, 3428000],\n",
        "               ['V.Kohli', 31, 70, 8428000],\n",
        "               ['S.Smith', 34, 80, 4428000],\n",
        "               ['C.Gayle', 40, 100, 4528000],\n",
        "               ['J.Root', 33, 72, 7028000],\n",
        "               ['K.Peterson', 42, 85, 2528000]]\n",
        "\n",
        "df= pd.DataFrame(player_list, columns=['Name', 'Age', 'Weight', 'Salary'])\n",
        "print(df)"
      ],
      "metadata": {
        "colab": {
          "base_uri": "https://localhost:8080/"
        },
        "id": "lHaBDG_ZmO-h",
        "outputId": "622963fb-6e67-4346-eda9-dd6a332f6307"
      },
      "execution_count": 37,
      "outputs": [
        {
          "output_type": "stream",
          "name": "stdout",
          "text": [
            "            Name  Age  Weight   Salary\n",
            "0      M.S.Dhoni   36      75  5428000\n",
            "1  A.B.D Villers   38      74  3428000\n",
            "2        V.Kohli   31      70  8428000\n",
            "3        S.Smith   34      80  4428000\n",
            "4        C.Gayle   40     100  4528000\n",
            "5         J.Root   33      72  7028000\n",
            "6     K.Peterson   42      85  2528000\n"
          ]
        }
      ]
    },
    {
      "cell_type": "markdown",
      "source": [
        "#iloc"
      ],
      "metadata": {
        "id": "YvJaLNDlsdj0"
      }
    },
    {
      "cell_type": "markdown",
      "source": [
        "slicing columns"
      ],
      "metadata": {
        "id": "G1RZpA9iohQ1"
      }
    },
    {
      "cell_type": "code",
      "source": [
        "df1= df.iloc[:, 0:2]\n",
        "print(df1)"
      ],
      "metadata": {
        "colab": {
          "base_uri": "https://localhost:8080/"
        },
        "id": "X8yqYYVHmO7P",
        "outputId": "c34f1a7b-e9e9-4c78-d233-55f62ea84350"
      },
      "execution_count": 38,
      "outputs": [
        {
          "output_type": "stream",
          "name": "stdout",
          "text": [
            "            Name  Age\n",
            "0      M.S.Dhoni   36\n",
            "1  A.B.D Villers   38\n",
            "2        V.Kohli   31\n",
            "3        S.Smith   34\n",
            "4        C.Gayle   40\n",
            "5         J.Root   33\n",
            "6     K.Peterson   42\n"
          ]
        }
      ]
    },
    {
      "cell_type": "markdown",
      "source": [
        "accesing specific value/cell"
      ],
      "metadata": {
        "id": "K5C192-drN5t"
      }
    },
    {
      "cell_type": "code",
      "source": [
        "value= df.iloc[3,1]\n",
        "print(value)"
      ],
      "metadata": {
        "colab": {
          "base_uri": "https://localhost:8080/"
        },
        "id": "lKfUEBjamO4I",
        "outputId": "63379261-e11a-4d6b-9906-ebf7dd0a33ee"
      },
      "execution_count": 39,
      "outputs": [
        {
          "output_type": "stream",
          "name": "stdout",
          "text": [
            "34\n"
          ]
        }
      ]
    },
    {
      "cell_type": "markdown",
      "source": [
        "using boolean condition in Pandas DF"
      ],
      "metadata": {
        "id": "b2lXhz-2sDgg"
      }
    },
    {
      "cell_type": "code",
      "source": [
        "data= df[df['Age'] > 35].iloc[:, :]\n",
        "print(data)"
      ],
      "metadata": {
        "id": "Ep1cHtwCmO0W",
        "outputId": "82dd4cc6-9d04-458f-93c0-255eaa9137f5",
        "colab": {
          "base_uri": "https://localhost:8080/"
        }
      },
      "execution_count": 40,
      "outputs": [
        {
          "output_type": "stream",
          "name": "stdout",
          "text": [
            "            Name  Age  Weight   Salary\n",
            "0      M.S.Dhoni   36      75  5428000\n",
            "1  A.B.D Villers   38      74  3428000\n",
            "4        C.Gayle   40     100  4528000\n",
            "6     K.Peterson   42      85  2528000\n"
          ]
        }
      ]
    },
    {
      "cell_type": "markdown",
      "source": [
        "#loc"
      ],
      "metadata": {
        "id": "TY9_5DTNjIcw"
      }
    },
    {
      "cell_type": "markdown",
      "source": [
        "slicing rows in df"
      ],
      "metadata": {
        "id": "H0LlDaM2kJw8"
      }
    },
    {
      "cell_type": "code",
      "source": [
        "print(df.loc['C.Gayle' : 'K.Peterson'])"
      ],
      "metadata": {
        "id": "kZAuqhgcmOwU",
        "outputId": "8e5b5b59-233a-4cf0-868e-ee0434ab156c",
        "colab": {
          "base_uri": "https://localhost:8080/"
        }
      },
      "execution_count": 41,
      "outputs": [
        {
          "output_type": "stream",
          "name": "stdout",
          "text": [
            "Empty DataFrame\n",
            "Columns: [Name, Age, Weight, Salary]\n",
            "Index: []\n"
          ]
        }
      ]
    },
    {
      "cell_type": "markdown",
      "source": [
        "selecting specific cell in df"
      ],
      "metadata": {
        "id": "F0fDBpD4kdkH"
      }
    },
    {
      "cell_type": "code",
      "source": [
        "print('---J.Root---')\n",
        "df.set_index('Name', inplace=True)\n",
        "print('Salary: ', df.loc['J.Root', 'Salary'])\n",
        "print('Age: ',df.loc['J.Root', 'Age'])"
      ],
      "metadata": {
        "id": "WPjBFNwkj7Sn",
        "outputId": "c0cad497-6d09-4973-cb94-3d752901a32a",
        "colab": {
          "base_uri": "https://localhost:8080/"
        }
      },
      "execution_count": 44,
      "outputs": [
        {
          "output_type": "stream",
          "name": "stdout",
          "text": [
            "---J.Root---\n",
            "Salary:  7028000\n",
            "Age:  33\n"
          ]
        }
      ]
    },
    {
      "cell_type": "code",
      "source": [],
      "metadata": {
        "id": "7JQJLhoUkpFW"
      },
      "execution_count": null,
      "outputs": []
    }
  ]
}